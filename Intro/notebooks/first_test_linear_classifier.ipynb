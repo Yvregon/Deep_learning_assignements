{
 "cells": [
  {
   "cell_type": "markdown",
   "metadata": {},
   "source": [
    "# PREMIERS PAS EN PYTORCH"
   ]
  },
  {
   "cell_type": "code",
   "execution_count": 1,
   "metadata": {},
   "outputs": [],
   "source": [
    "import torch\n",
    "import torchvision\n",
    "import torchvision.transforms as transforms\n",
    "import os.path\n",
    "import matplotlib.pyplot as plt\n",
    "import matplotlib.cm as cm\n",
    "import torch.nn as nn\n",
    "import random\n",
    "import time\n",
    "import os\n",
    "from torch.utils.tensorboard import SummaryWriter\n",
    "import progressbar\n",
    "import tqdm\n",
    "import sys\n",
    "from torch.utils.tensorboard import (\n",
    "    SummaryWriter,\n",
    ")  # dashboard local, dashboard en ligne permet de travailler à plusieurs"
   ]
  },
  {
   "cell_type": "markdown",
   "metadata": {},
   "source": [
    "## Datasets"
   ]
  },
  {
   "cell_type": "markdown",
   "metadata": {},
   "source": [
    "### Loading the data FashionMNIST"
   ]
  },
  {
   "cell_type": "code",
   "execution_count": 2,
   "metadata": {},
   "outputs": [
    {
     "name": "stderr",
     "output_type": "stream",
     "text": [
      "/usr/local/lib/python3.8/dist-packages/torchvision/datasets/mnist.py:498: UserWarning: The given NumPy array is not writeable, and PyTorch does not support non-writeable tensors. This means you can write to the underlying (supposedly non-writeable) NumPy array using the tensor. You may want to copy the array to protect its data or make it writeable before converting it to a tensor. This type of warning will be suppressed for the rest of this program. (Triggered internally at  ../torch/csrc/utils/tensor_numpy.cpp:180.)\n",
      "  return torch.from_numpy(parsed.astype(m[2], copy=False)).view(*s)\n"
     ]
    }
   ],
   "source": [
    "dataset_dir = os.path.join(os.path.expanduser(\"~\"), \"Datasets\", \"FashionMNIST\")\n",
    "valid_ratio = 0.2  # Going to use 80%/20% split for train/valid\n",
    "\n",
    "# Load the dataset for the training/validation sets\n",
    "train_valid_dataset = torchvision.datasets.FashionMNIST(\n",
    "    root=dataset_dir,\n",
    "    train=True,\n",
    "    transform=None,  # transforms.ToTensor(),\n",
    "    download=True,\n",
    ")\n",
    "\n",
    "# Split it into training and validation sets\n",
    "nb_train = int((1.0 - valid_ratio) * len(train_valid_dataset))\n",
    "nb_valid = int(valid_ratio * len(train_valid_dataset))\n",
    "train_dataset, valid_dataset = torch.utils.data.dataset.random_split(\n",
    "    train_valid_dataset, [nb_train, nb_valid]\n",
    ")\n",
    "\n",
    "\n",
    "# Load the test set\n",
    "test_dataset = torchvision.datasets.FashionMNIST(\n",
    "    root=dataset_dir, transform=None, train=False  # transforms.ToTensor(),\n",
    ")"
   ]
  },
  {
   "cell_type": "markdown",
   "metadata": {},
   "source": [
    "### Données convertir en tensor\n",
    "tensor : mémoire RAM cpu / gpu d'ou le .to(device), qui l'envoie sur le la ram du device\n",
    "\n",
    "tenseur : nom plus général pour matrice de dimension n"
   ]
  },
  {
   "cell_type": "markdown",
   "metadata": {},
   "source": [
    "DatasetTransformer est une classe qui prends un Dataset et une fonction qui permet de transformer une donnée dans le type voulu. \n",
    "\n",
    "get_item retourne l'item dans le type voulu"
   ]
  },
  {
   "cell_type": "code",
   "execution_count": 3,
   "metadata": {},
   "outputs": [],
   "source": [
    "class DatasetTransformer(torch.utils.data.Dataset):\n",
    "\n",
    "    def __init__(self, base_dataset, transform):\n",
    "        self.base_dataset = base_dataset\n",
    "        self.transform = transform\n",
    "\n",
    "    def __getitem__(self, index):\n",
    "        img, target = self.base_dataset[index]\n",
    "        return self.transform(img), target\n",
    "\n",
    "    def __len__(self):\n",
    "        return len(self.base_dataset)"
   ]
  },
  {
   "cell_type": "code",
   "execution_count": 4,
   "metadata": {},
   "outputs": [],
   "source": [
    "train_dataset = DatasetTransformer(train_dataset, transforms.ToTensor())\n",
    "valid_dataset = DatasetTransformer(valid_dataset, transforms.ToTensor())\n",
    "test_dataset = DatasetTransformer(test_dataset, transforms.ToTensor())"
   ]
  },
  {
   "cell_type": "markdown",
   "metadata": {},
   "source": [
    "### création des Dataloaders pour les 3 parties de notre base de donnée\n",
    "\n",
    "train, test, validation grâce à DataLoader de pytorch. c'est ici qu'on choisi stocastique mini-bacth batch"
   ]
  },
  {
   "cell_type": "code",
   "execution_count": 5,
   "metadata": {},
   "outputs": [],
   "source": [
    "num_threads = 4  # Loading the dataset is using 4 CPU threads\n",
    "batch_size = 128  # Using minibatches of 128 samples si le dernier mini_batch <128, c'est pas grave, ca fait un mini_batch petit. Faire attention dans le training ( voir % accuracy)\n",
    "\n",
    "train_loader = torch.utils.data.DataLoader(\n",
    "    dataset=train_dataset,\n",
    "    batch_size=batch_size,\n",
    "    shuffle=True,  # <-- this reshuffles the data at every epoch\n",
    "    num_workers=num_threads,\n",
    ")\n",
    "\n",
    "valid_loader = torch.utils.data.DataLoader(\n",
    "    dataset=valid_dataset, batch_size=batch_size, shuffle=False, num_workers=num_threads\n",
    ")\n",
    "\n",
    "\n",
    "test_loader = torch.utils.data.DataLoader(\n",
    "    dataset=test_dataset, batch_size=batch_size, shuffle=False, num_workers=num_threads\n",
    ")"
   ]
  },
  {
   "cell_type": "markdown",
   "metadata": {},
   "source": [
    "On teste si les données sont bien loader. ensuite on affiche quelques images de plusieurs classe de notre dataset train"
   ]
  },
  {
   "cell_type": "code",
   "execution_count": 6,
   "metadata": {},
   "outputs": [
    {
     "name": "stdout",
     "output_type": "stream",
     "text": [
      "The train set contains 48000 images, in 375 batches\n",
      "The validation set contains 12000 images, in 94 batches\n",
      "The test set contains 10000 images, in 79 batches\n"
     ]
    }
   ],
   "source": [
    "print(\n",
    "    \"The train set contains {} images, in {} batches\".format(\n",
    "        len(train_loader.dataset), len(train_loader)\n",
    "    )\n",
    ")\n",
    "print(\n",
    "    \"The validation set contains {} images, in {} batches\".format(\n",
    "        len(valid_loader.dataset), len(valid_loader)\n",
    "    )\n",
    ")\n",
    "print(\n",
    "    \"The test set contains {} images, in {} batches\".format(\n",
    "        len(test_loader.dataset), len(test_loader)\n",
    "    )\n",
    ")"
   ]
  },
  {
   "cell_type": "code",
   "execution_count": 7,
   "metadata": {},
   "outputs": [
    {
     "data": {
      "image/png": "[encoded data removed]",
      "text/plain": [
       "<Figure size 2000x500 with 10 Axes>"
      ]
     },
     "metadata": {},
     "output_type": "display_data"
    }
   ],
   "source": [
    "nsamples = 10\n",
    "classes_names = [\n",
    "    \"T-shirt/top\",\n",
    "    \"Trouser\",\n",
    "    \"Pullover\",\n",
    "    \"Dress\",\n",
    "    \"Coat\",\n",
    "    \"Sandal\",\n",
    "    \"Shirt\",\n",
    "    \"Sneaker\",\n",
    "    \"Bag\",\n",
    "    \"Ankle boot\",\n",
    "]\n",
    "imgs, labels = next(iter(train_loader))\n",
    "\n",
    "fig = plt.figure(figsize=(20, 5), facecolor=\"w\")\n",
    "for i in range(nsamples):\n",
    "    ax = plt.subplot(1, nsamples, i + 1)\n",
    "    plt.imshow(imgs[i, 0, :, :], vmin=0, vmax=1.0, cmap=cm.gray)\n",
    "    ax.set_title(\"{}\".format(classes_names[labels[i]]), fontsize=15)\n",
    "    ax.get_xaxis().set_visible(False)\n",
    "    ax.get_yaxis().set_visible(False)\n",
    "\n",
    "plt.savefig(\"fashionMNIST_samples.png\", bbox_inches=\"tight\")\n",
    "plt.show()"
   ]
  },
  {
   "cell_type": "markdown",
   "metadata": {},
   "source": [
    "## Linear Classifier"
   ]
  },
  {
   "cell_type": "markdown",
   "metadata": {},
   "source": [
    "### construction du modèle linear classifier\n",
    "\n",
    "linearNet, une couche linéaire de taille input_size,num_classes. \n",
    "\n",
    "Initialisation des weight and biais de tensor : eights and biases are initialized with a uniform distribution : uniform(-1/sqrt(in_features), 1/sqrt(in_features)).\n",
    "In_features : linar(in_feat,out_feat)"
   ]
  },
  {
   "cell_type": "markdown",
   "metadata": {},
   "source": [
    "\n",
    "(Batch, channel, Height, width) (torch mais attention (channel,h,w,batch)).\n",
    "\n",
    "linear couche (\\*, data) -> (\\*, data) il prend en compte la dernière dimension du tensor (x.size()[0] ou x.shape[0] -1 plus modulable si tensor taille 1,2,3,...)"
   ]
  },
  {
   "cell_type": "code",
   "execution_count": 8,
   "metadata": {},
   "outputs": [],
   "source": [
    "class LinearNet(nn.Module):\n",
    "    def __init__(self, input_size, num_classes):\n",
    "        super(LinearNet, self).__init__()\n",
    "        self.input_size = input_size\n",
    "        self.classifier = nn.Linear(self.input_size, num_classes)\n",
    "\n",
    "    def forward(self, x):\n",
    "        x = x.view(\n",
    "            x.size()[0], -1\n",
    "        )  # voir markdown au dessus ! nb_images,image_size*channel en vect\n",
    "        y = self.classifier(x)\n",
    "        return y"
   ]
  },
  {
   "cell_type": "markdown",
   "metadata": {},
   "source": [
    "ALTERNATIVE POUR ne pas faire de classe pour le réseau de neuronnes // tensorflow exemple :\n",
    "\n",
    "**model = nn.Sequential(nn.Linear(2, 2), nn.Linear(2, 2))**\n",
    "\n",
    "ALTERNATIVE POUR initialiser les poids à la main : \n",
    "\n",
    "**model.apply(init_weights)**"
   ]
  },
  {
   "cell_type": "markdown",
   "metadata": {},
   "source": [
    "Ici on accède via cuda aux GPU dédiés, si il y en a pas, cpu. Ca permet d'envoyer les tensor sur le device."
   ]
  },
  {
   "cell_type": "code",
   "execution_count": 9,
   "metadata": {},
   "outputs": [],
   "source": [
    "use_gpu = torch.cuda.is_available()\n",
    "if use_gpu:\n",
    "    device = torch.device(\"cuda\")\n",
    "else:\n",
    "    device = torch.device(\"cpu\")"
   ]
  },
  {
   "cell_type": "code",
   "execution_count": 10,
   "metadata": {},
   "outputs": [
    {
     "data": {
      "text/plain": [
       "LinearNet(\n",
       "  (classifier): Linear(in_features=784, out_features=10, bias=True)\n",
       ")"
      ]
     },
     "execution_count": 10,
     "metadata": {},
     "output_type": "execute_result"
    }
   ],
   "source": [
    "model = LinearNet(1 * 28 * 28, 10)\n",
    "model.to(device)"
   ]
  },
  {
   "cell_type": "markdown",
   "metadata": {},
   "source": [
    "### Training Test Validation"
   ]
  },
  {
   "cell_type": "markdown",
   "metadata": {},
   "source": [
    "#### traning loop \n",
    "\n",
    "\n",
    "\n",
    "enumerate dans la boucle for utile pour récuperer les éléments et l'indice de range(len(M))"
   ]
  },
  {
   "cell_type": "code",
   "execution_count": 11,
   "metadata": {},
   "outputs": [],
   "source": [
    "def train(model, loader, f_loss, optimizer, device):\n",
    "    \"\"\"\n",
    "    Train a model for one epoch, iterating over the loader\n",
    "    using the f_loss to compute the loss and the optimizer\n",
    "    to update the parameters of the model.\n",
    "\n",
    "    Arguments :\n",
    "\n",
    "        model     -- A torch.nn.Module object\n",
    "        loader    -- A torch.utils.data.DataLoader\n",
    "        f_loss    -- The loss function, i.e. a loss Module\n",
    "        optimizer -- A torch.optim.Optimzer object\n",
    "        device    -- a torch.device class specifying the device\n",
    "                     used for computation\n",
    "\n",
    "    Returns :\n",
    "    \"\"\"\n",
    "\n",
    "    # We enter train mode. This is useless for the linear model\n",
    "    # but is important for layers such as dropout, batchnorm, ...\n",
    "    # dropout mask de 0 ou 1 pour eviter l'overfitting x <- x* mask\n",
    "    model.train()\n",
    "    # with tqdm.tqdm(loader, unit=\"batch\") as tepoch:\n",
    "    for i, (inputs, targets) in enumerate(loader):\n",
    "        inputs, targets = inputs.to(device), targets.to(device)\n",
    "\n",
    "        # Compute the forward pass through the network up to the loss\n",
    "        outputs = model(inputs)\n",
    "        loss = f_loss(outputs, targets)\n",
    "\n",
    "        # Backward and optimize\n",
    "        optimizer.zero_grad()\n",
    "        loss.backward()\n",
    "        optimizer.step()\n",
    "        # val_loss, val_acc = test(model, valid_loader, f_loss, device)\n",
    "        # tepoch.set_postfix(loss = val_loss, accuracy=100. * val_acc)"
   ]
  },
  {
   "cell_type": "markdown",
   "metadata": {},
   "source": [
    "cross entropy => Yk score de dim (nb pixels +1 (biais) ) Z = softmax(ji) in [0,9] zk = exp(yk)/sum(exp(yi))\n",
    "\n",
    "Loss_cross =  -log(Zy_i)\n",
    "\n",
    "pas de softmax layer, exp facilement trop grand. pytorch = MLL o softmax\n",
    "\n",
    "LogSumExpTrick pour stabilité numérique: \n",
    "\n",
    " zk = exp(yk - max(yi))/sum(exp(yi)- max(yj)) |\n",
    "Loss_cross = yk -c  -log(sum(exp(yi)- max(yj)))\n",
    "\n",
    "ici pas de one hot encoding, classes de 0 à 9\n",
    "\n",
    "pour récup des probas a la main, softmax"
   ]
  },
  {
   "cell_type": "code",
   "execution_count": 12,
   "metadata": {},
   "outputs": [],
   "source": [
    "f_loss = torch.nn.CrossEntropyLoss()\n",
    "optimizer = torch.optim.Adam(model.parameters())"
   ]
  },
  {
   "cell_type": "markdown",
   "metadata": {},
   "source": [
    "#### test loop"
   ]
  },
  {
   "cell_type": "code",
   "execution_count": 13,
   "metadata": {},
   "outputs": [],
   "source": [
    "def test(model, loader, f_loss, device):\n",
    "    \"\"\"\n",
    "    Test a model by iterating over the loader\n",
    "\n",
    "    Arguments :\n",
    "\n",
    "        model     -- A torch.nn.Module object\n",
    "        loader    -- A torch.utils.data.DataLoader\n",
    "        f_loss    -- The loss function, i.e. a loss Module\n",
    "        device    -- The device to use for computation\n",
    "\n",
    "    Returns :\n",
    "\n",
    "        A tuple with the mean loss and mean accuracy\n",
    "\n",
    "    \"\"\"\n",
    "    # We disable gradient computation which speeds up the computation\n",
    "    # and reduces the memory usage\n",
    "    with torch.no_grad():\n",
    "        # We enter evaluation mode. This is useless for the linear model\n",
    "        # but is important with layers such as dropout, batchnorm, ..\n",
    "        model.eval()\n",
    "        N = 0\n",
    "        tot_loss, correct = 0.0, 0.0\n",
    "        for i, (inputs, targets) in enumerate(loader):\n",
    "\n",
    "            # We got a minibatch from the loader within inputs and targets\n",
    "            # With a mini batch size of 128, we have the following shapes\n",
    "            #    inputs is of shape (128, 1, 28, 28)\n",
    "            #    targets is of shape (128)\n",
    "\n",
    "            # We need to copy the data on the GPU if we use one\n",
    "            inputs, targets = inputs.to(device), targets.to(device)\n",
    "\n",
    "            # Compute the forward pass, i.e. the scores for each input image\n",
    "            outputs = model(inputs)\n",
    "\n",
    "            # We accumulate the exact number of processed samples\n",
    "            N += inputs.shape[0]\n",
    "\n",
    "            # We accumulate the loss considering\n",
    "            # The multipliation by inputs.shape[0] is due to the fact\n",
    "            # that our loss criterion is averaging over its samples\n",
    "            tot_loss += inputs.shape[0] * f_loss(outputs, targets).item()\n",
    "\n",
    "            # For the accuracy, we compute the labels for each input image\n",
    "            # Be carefull, the model is outputing scores and not the probabilities\n",
    "            # But given the softmax is not altering the rank of its input scores\n",
    "            # we can compute the label by argmaxing directly the scores\n",
    "            predicted_targets = outputs.argmax(dim=1)\n",
    "            correct += (predicted_targets == targets).sum().item()\n",
    "        return tot_loss / N, correct / N"
   ]
  },
  {
   "cell_type": "markdown",
   "metadata": {},
   "source": [
    "### execution"
   ]
  },
  {
   "cell_type": "code",
   "execution_count": 14,
   "metadata": {},
   "outputs": [
    {
     "name": "stdout",
     "output_type": "stream",
     "text": [
      "Epoch 0\n",
      " Validation : Loss : 0.5743, Acc : 0.8131\n",
      "Epoch 1\n",
      " Validation : Loss : 0.5137, Acc : 0.8295\n",
      "Epoch 2\n",
      " Validation : Loss : 0.4847, Acc : 0.8378\n",
      "Epoch 3\n",
      " Validation : Loss : 0.4670, Acc : 0.8438\n",
      "Epoch 4\n",
      " Validation : Loss : 0.4558, Acc : 0.8467\n",
      "Epoch 5\n",
      " Validation : Loss : 0.4471, Acc : 0.8489\n",
      "Epoch 6\n",
      " Validation : Loss : 0.4450, Acc : 0.8492\n",
      "Epoch 7\n",
      " Validation : Loss : 0.4369, Acc : 0.8522\n",
      "Epoch 8\n",
      " Validation : Loss : 0.4300, Acc : 0.8551\n",
      "Epoch 9\n",
      " Validation : Loss : 0.4298, Acc : 0.8537\n",
      "Epoch 10\n",
      " Validation : Loss : 0.4279, Acc : 0.8532\n",
      "Epoch 11\n",
      " Validation : Loss : 0.4228, Acc : 0.8558\n",
      "Epoch 12\n",
      " Validation : Loss : 0.4230, Acc : 0.8553\n",
      "Epoch 13\n",
      " Validation : Loss : 0.4222, Acc : 0.8562\n",
      "Epoch 14\n",
      " Validation : Loss : 0.4258, Acc : 0.8542\n",
      "Epoch 15\n",
      " Validation : Loss : 0.4220, Acc : 0.8551\n",
      "Epoch 16\n",
      " Validation : Loss : 0.4237, Acc : 0.8543\n",
      "Epoch 17\n",
      " Validation : Loss : 0.4219, Acc : 0.8576\n",
      "Epoch 18\n",
      " Validation : Loss : 0.4232, Acc : 0.8548\n",
      "Epoch 19\n",
      " Validation : Loss : 0.4174, Acc : 0.8588\n",
      "Epoch 20\n",
      " Validation : Loss : 0.4215, Acc : 0.8559\n",
      "Epoch 21\n",
      " Validation : Loss : 0.4224, Acc : 0.8570\n",
      "Epoch 22\n",
      " Validation : Loss : 0.4170, Acc : 0.8568\n",
      "Epoch 23\n",
      " Validation : Loss : 0.4322, Acc : 0.8526\n",
      "Epoch 24\n",
      " Validation : Loss : 0.4173, Acc : 0.8557\n",
      "Epoch 25\n",
      " Validation : Loss : 0.4257, Acc : 0.8558\n",
      "Epoch 26\n",
      " Validation : Loss : 0.4253, Acc : 0.8553\n",
      "Epoch 27\n",
      " Validation : Loss : 0.4174, Acc : 0.8569\n",
      "Epoch 28\n",
      " Validation : Loss : 0.4153, Acc : 0.8586\n",
      "Epoch 29\n",
      " Validation : Loss : 0.4205, Acc : 0.8551\n"
     ]
    }
   ],
   "source": [
    "epochs = 30\n",
    "\n",
    "for epoch in range(epochs):\n",
    "    print(\"Epoch {}\".format(epoch))\n",
    "    train(model, train_loader, f_loss, optimizer, device)\n",
    "    val_loss, val_acc = test(model, valid_loader, f_loss, device)\n",
    "    print(\" Validation : Loss : {:.4f}, Acc : {:.4f}\".format(val_loss, val_acc))"
   ]
  },
  {
   "cell_type": "markdown",
   "metadata": {},
   "source": [
    "## Sauvegarder un modèle "
   ]
  },
  {
   "cell_type": "code",
   "execution_count": 15,
   "metadata": {},
   "outputs": [
    {
     "name": "stdout",
     "output_type": "stream",
     "text": [
      "Logging to ./logs/linear_8\n",
      "Logging to ./logs/linear_9\n"
     ]
    }
   ],
   "source": [
    "def generate_unique_logpath(logdir, raw_run_name):\n",
    "    i = 0\n",
    "    while True:\n",
    "        run_name = raw_run_name + \"_\" + str(i)\n",
    "        log_path = os.path.join(logdir, run_name)\n",
    "        if not os.path.isdir(log_path):\n",
    "            return log_path\n",
    "        i = i + 1\n",
    "\n",
    "\n",
    "###################################################\n",
    "# Example usage :\n",
    "# 1- create the directory \"./logs\" if it does not exist\n",
    "top_logdir = \"./logs\"\n",
    "if not os.path.exists(top_logdir):\n",
    "    os.mkdir(top_logdir)\n",
    "\n",
    "# 2- We test the function by calling several times our function\n",
    "logdir = generate_unique_logpath(top_logdir, \"linear\")\n",
    "print(\"Logging to {}\".format(logdir))\n",
    "# -> Prints out     Logging to   ./logs/linear_0\n",
    "if not os.path.exists(logdir):\n",
    "    os.mkdir(logdir)\n",
    "\n",
    "logdir = generate_unique_logpath(top_logdir, \"linear\")\n",
    "print(\"Logging to {}\".format(logdir))\n",
    "# -> Prints out     Logging to   ./logs/linear_1\n",
    "if not os.path.exists(logdir):\n",
    "    os.mkdir(logdir)"
   ]
  },
  {
   "cell_type": "code",
   "execution_count": 16,
   "metadata": {},
   "outputs": [],
   "source": [
    "class ModelCheckpoint:\n",
    "\n",
    "    def __init__(self, filepath, model):\n",
    "        self.min_loss = None\n",
    "        self.filepath = filepath\n",
    "        self.model = model\n",
    "\n",
    "    def update(self, loss):\n",
    "        if (self.min_loss is None) or (loss < self.min_loss):\n",
    "            print(\"Saving a better model\")\n",
    "            torch.save(self.model.state_dict(), self.filepath)\n",
    "            # torch.save(self.model, self.filepath)\n",
    "            self.min_loss = loss"
   ]
  },
  {
   "cell_type": "markdown",
   "metadata": {},
   "source": [
    "Ajout de la sauvegarde du modèle. on garde le meilleur modèle en fonction du corpus de validation."
   ]
  },
  {
   "cell_type": "code",
   "execution_count": 17,
   "metadata": {},
   "outputs": [
    {
     "name": "stdout",
     "output_type": "stream",
     "text": [
      "<All keys matched successfully>\n",
      "Epoch 0\n",
      " Validation : Loss : 0.5753, Acc : 0.8130\n",
      "Saving a better model\n",
      "Epoch 1\n",
      " Validation : Loss : 0.5089, Acc : 0.8290\n",
      "Saving a better model\n",
      "Epoch 2\n",
      " Validation : Loss : 0.4929, Acc : 0.8338\n",
      "Saving a better model\n",
      "Epoch 3\n",
      " Validation : Loss : 0.4656, Acc : 0.8440\n",
      "Saving a better model\n",
      "Epoch 4\n",
      " Validation : Loss : 0.4564, Acc : 0.8446\n",
      "Saving a better model\n",
      "Epoch 5\n",
      " Validation : Loss : 0.4493, Acc : 0.8487\n",
      "Saving a better model\n",
      "Epoch 6\n",
      " Validation : Loss : 0.4414, Acc : 0.8528\n",
      "Saving a better model\n",
      "Epoch 7\n",
      " Validation : Loss : 0.4364, Acc : 0.8529\n",
      "Saving a better model\n",
      "Epoch 8\n",
      " Validation : Loss : 0.4314, Acc : 0.8546\n",
      "Saving a better model\n",
      "Epoch 9\n",
      " Validation : Loss : 0.4285, Acc : 0.8552\n",
      "Saving a better model\n"
     ]
    }
   ],
   "source": [
    "###########################################\n",
    "# Example usage\n",
    "\n",
    "# on sauvegarde le modèle le meilleur vis à vis de tests\n",
    "# Define the callback object\n",
    "\n",
    "## refaire avec un modèle nouveau :\n",
    "model = LinearNet(1 * 28 * 28, 10)\n",
    "model.to(device)\n",
    "## ouvrir un modèle sauvegarder avec torch.save\n",
    "model_path = \"logs/linear_1/best_model.pt\"\n",
    "print(model.load_state_dict(torch.load(model_path)))\n",
    "# Switch to eval mode sinon les poids ne s'accualisent pas\n",
    "model.eval()\n",
    "optimizer = torch.optim.Adam(\n",
    "    model.parameters()\n",
    ")  ## ATTENTION A METTRE LE BON MODÈLE SI ON RÉINSTANCIE LE MODÈLE !\n",
    "\n",
    "model_checkpoint = ModelCheckpoint(logdir + \"/best_model.pt\", model)\n",
    "\n",
    "epochs = 10\n",
    "\n",
    "for epoch in range(epochs):\n",
    "    print(\"Epoch {}\".format(epoch))\n",
    "    train(model, train_loader, f_loss, optimizer, device)\n",
    "    val_loss, val_acc = test(model, valid_loader, f_loss, device)\n",
    "    print(\" Validation : Loss : {:.4f}, Acc : {:.4f}\".format(val_loss, val_acc))\n",
    "    model_checkpoint.update(val_loss)"
   ]
  },
  {
   "cell_type": "markdown",
   "metadata": {},
   "source": [
    "#### Création et Sauvegarde des données autres (texte, tensorboard)"
   ]
  },
  {
   "cell_type": "markdown",
   "metadata": {},
   "source": [
    "même boucle, on rajoute le tensorboard pour avoir des graphiques de notre loss et accuracy."
   ]
  },
  {
   "cell_type": "code",
   "execution_count": 30,
   "metadata": {},
   "outputs": [
    {
     "name": "stdout",
     "output_type": "stream",
     "text": [
      "<All keys matched successfully>\n",
      "Epoch 0\n",
      " Validation : Loss : 0.5701, Acc : 0.8168\n",
      "Saving a better model\n",
      "Epoch 1\n",
      " Validation : Loss : 0.5095, Acc : 0.8319\n",
      "Saving a better model\n",
      "Epoch 2\n",
      " Validation : Loss : 0.4805, Acc : 0.8407\n",
      "Saving a better model\n",
      "Epoch 3\n",
      " Validation : Loss : 0.4655, Acc : 0.8448\n",
      "Saving a better model\n",
      "Epoch 4\n",
      " Validation : Loss : 0.4539, Acc : 0.8470\n",
      "Saving a better model\n",
      "Epoch 5\n",
      " Validation : Loss : 0.4488, Acc : 0.8504\n",
      "Saving a better model\n",
      "Epoch 6\n",
      " Validation : Loss : 0.4440, Acc : 0.8502\n",
      "Saving a better model\n",
      "Epoch 7\n",
      " Validation : Loss : 0.4394, Acc : 0.8505\n",
      "Saving a better model\n",
      "Epoch 8\n",
      " Validation : Loss : 0.4324, Acc : 0.8551\n",
      "Saving a better model\n",
      "Epoch 9\n",
      " Validation : Loss : 0.4328, Acc : 0.8537\n"
     ]
    }
   ],
   "source": [
    "epochs = 10\n",
    "\n",
    "model = LinearNet(1 * 28 * 28, 10)\n",
    "model.to(device)\n",
    "tensorboard_writer = SummaryWriter(log_dir=logdir)\n",
    "## ouvrir un modèle sauvegarder avec torch.save\n",
    "model_path = \"logs/linear_1/best_model.pt\"\n",
    "print(model.load_state_dict(torch.load(model_path)))\n",
    "# Switch to eval mode sinon les poids ne s'accualisent pas\n",
    "model.eval()\n",
    "optimizer = torch.optim.Adam(\n",
    "    model.parameters()\n",
    ")  ## ATTENTION A METTRE LE BON MODÈLE SI ON RÉINSTANCIE LE MODÈLE !\n",
    "\n",
    "model_checkpoint = ModelCheckpoint(logdir + \"/best_model.pt\", model)\n",
    "for epoch in range(epochs):\n",
    "    print(\"Epoch {}\".format(epoch))\n",
    "    train(model, train_loader, f_loss, optimizer, device)\n",
    "    train_loss, train_acc = test(model, train_loader, f_loss, device)\n",
    "    val_loss, val_acc = test(model, valid_loader, f_loss, device)\n",
    "    print(\" Validation : Loss : {:.4f}, Acc : {:.4f}\".format(val_loss, val_acc))\n",
    "    model_checkpoint.update(val_loss)\n",
    "    tensorboard_writer.add_scalar(\"metrics/train_loss\", train_loss, epoch)\n",
    "    tensorboard_writer.add_scalar(\"metrics/train_acc\", train_acc, epoch)\n",
    "    tensorboard_writer.add_scalar(\"metrics/val_loss\", val_loss, epoch)\n",
    "    tensorboard_writer.add_scalar(\"metrics/val_acc\", val_acc, epoch)"
   ]
  },
  {
   "cell_type": "markdown",
   "metadata": {},
   "source": [
    "Ensuite on sauvegarde le tensorboard pour le garder.\n",
    "\n",
    "Normalement, hors jupyter notebook, tout ce relance d'un coup donc il y a un nouveau dossier log a chaque execution. \n",
    "\n",
    "COMMANDE DE VISUALISATION : tensorboard --logdir ./logs"
   ]
  },
  {
   "cell_type": "code",
   "execution_count": 20,
   "metadata": {},
   "outputs": [],
   "source": [
    "summary_file = open(logdir + \"/summary.txt\", \"w\")\n",
    "summary_text = \"\"\"\n",
    "\n",
    "Executed command\n",
    "================\n",
    "{}\n",
    "\n",
    "Dataset\n",
    "=======\n",
    "FashionMNIST\n",
    "\n",
    "Model summary\n",
    "=============\n",
    "{}\n",
    "\n",
    "{} trainable parameters\n",
    "\n",
    "Optimizer\n",
    "========\n",
    "{}\n",
    "\n",
    "\"\"\".format(\n",
    "    \" \".join(sys.argv),\n",
    "    model,\n",
    "    sum(p.numel() for p in model.parameters() if p.requires_grad),\n",
    "    optimizer,\n",
    ")\n",
    "summary_file.write(summary_text)\n",
    "summary_file.close()\n",
    "\n",
    "\n",
    "tensorboard_writer.add_text(\"Experiment summary\", summary_text)"
   ]
  },
  {
   "cell_type": "markdown",
   "metadata": {},
   "source": [
    "## Pre-processing"
   ]
  },
  {
   "cell_type": "markdown",
   "metadata": {},
   "source": [
    "### normalisation des données"
   ]
  },
  {
   "cell_type": "markdown",
   "metadata": {},
   "source": [
    "première étape : définir la fonction qui permet de normaliser. Elle n'existe pas dans Torch contrairement à d'autres librairies.\n",
    "\n",
    "Torch utilise un transformer, qui transforme les données selon une fonction. (transformer est général)\n",
    "\n",
    "Si problème convexe, une seul solutions, mais avec les differents lancements où dirait qu'il y a plusieurs minimum global : \n",
    "il est possible que nom standardisation fait que l'apprentissage n'est pas égal. a sauvegarder aussi les pré-processing."
   ]
  },
  {
   "cell_type": "code",
   "execution_count": 26,
   "metadata": {},
   "outputs": [],
   "source": [
    "def compute_mean_std(loader):\n",
    "    # Compute the mean over minibatches\n",
    "    mean_img = None\n",
    "    for imgs, _ in loader:\n",
    "        if mean_img is None:\n",
    "            mean_img = torch.zeros_like(imgs[0])\n",
    "        mean_img += imgs.sum(dim=0)\n",
    "    mean_img /= len(loader.dataset)\n",
    "\n",
    "    # Compute the std over minibatches\n",
    "    std_img = torch.zeros_like(mean_img)\n",
    "    for imgs, _ in loader:\n",
    "        std_img += ((imgs - mean_img) ** 2).sum(dim=0)\n",
    "    std_img /= len(loader.dataset)\n",
    "    std_img = torch.sqrt(std_img)\n",
    "\n",
    "    # Set the variance of pixels with no variance to 1\n",
    "    # Because there is no variance\n",
    "    # these pixels will anyway have no impact on the final decision\n",
    "    std_img[std_img == 0] = 1\n",
    "\n",
    "    return mean_img, std_img"
   ]
  },
  {
   "cell_type": "markdown",
   "metadata": {},
   "source": [
    "transformation des données avec transforms.Compose : \n",
    "\n",
    "on récupère la moyenne et la variance sur TRAIN uniquement ! Eviter biais"
   ]
  },
  {
   "cell_type": "code",
   "execution_count": 28,
   "metadata": {},
   "outputs": [],
   "source": [
    "normalizing_dataset = train_dataset\n",
    "normalizing_loader = torch.utils.data.DataLoader(\n",
    "    dataset=normalizing_dataset, batch_size=batch_size, num_workers=num_threads\n",
    ")\n",
    "\n",
    "# Compute mean and variance from the training set\n",
    "mean_train_tensor, std_train_tensor = compute_mean_std(normalizing_loader)\n",
    "\n",
    "\n",
    "data_transforms = transforms.Compose(\n",
    "    [\n",
    "        transforms.ToTensor(),\n",
    "        transforms.Lambda(lambda x: (x - mean_train_tensor) / std_train_tensor),\n",
    "    ]\n",
    ")\n",
    "\n",
    "train_dataset = DatasetTransformer(train_dataset, data_transforms)\n",
    "valid_dataset = DatasetTransformer(valid_dataset, data_transforms)\n",
    "test_dataset = DatasetTransformer(test_dataset, data_transforms)"
   ]
  },
  {
   "cell_type": "markdown",
   "metadata": {},
   "source": [
    "## A Fully connected 2 hidden layers classifier\n",
    "voir le fichier : \n",
    "2_layer_model.py pour voir A Fully connected 2 hidden layers classifier. \n",
    "\n",
    "commentaires ici et sur le .py"
   ]
  },
  {
   "cell_type": "markdown",
   "metadata": {},
   "source": [
    "## sur la régularisation\n",
    "\n",
    "idée : eviter le surapprentissage. Comment ?\n",
    "\n",
    "- sur les données : \n",
    "    -data augmentation\n",
    "    - new datasets\n",
    "\n",
    "- sur le modèle :\n",
    "    - coefficient d'apprentissage qui prennent en compte le poids du noeud  (L2 régularisation par exemple)\n",
    "    - batch normalisation (normalise xi, en entre // data normalisation, ou dans le modèle n'importe ou)\n",
    "    - dropout "
   ]
  },
  {
   "cell_type": "markdown",
   "metadata": {},
   "source": [
    "## envoyer en file sur DCE les entrainement en parallèle\n",
    "\n",
    "exemple usage -> starting batch trainins in NN\n",
    "\n",
    "node always 1 prod long = 48h / prod nuit = 12h //permet aussi de faire 4 jobs pas user plutot que 1.\n",
    "\n",
    "array = combien de lancement\n",
    "\n",
    "interet de la version avec git : choisir la version de code a tester pour pouvoir continuer à coder sans soucis.\n",
    "\n",
    "avec copie du git et checkout la bonne version. requirements.txt pour faire un pip env spécifique.\n",
    "\n",
    "ssh 2023avr_5@dce.metz.centrale.supelec.fr \n",
    "\n",
    "ssh 2023avr_5@chome.metz.supelec.fr\n",
    "\n",
    "password : SingletonsGarrisonsRoguishly\n",
    "\n",
    "argparse pour les parametres tuto dedans\n",
    "\n",
    "byobu\n",
    "\n",
    "squeue (voir jobs)\n",
    "scancel "
   ]
  },
  {
   "cell_type": "markdown",
   "metadata": {},
   "source": []
  }
 ],
 "metadata": {
  "interpreter": {
   "hash": "d4d1e4263499bec80672ea0156c357c1ee493ec2b1c70f0acce89fc37c4a6abe"
  },
  "kernelspec": {
   "display_name": "Python 3.9.13 64-bit ('base': conda)",
   "language": "python",
   "name": "python3"
  },
  "language_info": {
   "codemirror_mode": {
    "name": "ipython",
    "version": 3
   },
   "file_extension": ".py",
   "mimetype": "text/x-python",
   "name": "python",
   "nbconvert_exporter": "python",
   "pygments_lexer": "ipython3",
   "version": "3.8.10"
  },
  "orig_nbformat": 4
 },
 "nbformat": 4,
 "nbformat_minor": 2
}
